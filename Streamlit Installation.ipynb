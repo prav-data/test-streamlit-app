{
 "cells": [
  {
   "cell_type": "code",
   "execution_count": 8,
   "id": "1e0a2e8c",
   "metadata": {},
   "outputs": [
    {
     "name": "stdout",
     "output_type": "stream",
     "text": [
      "Requirement already satisfied: streamlit in c:\\users\\prave\\anaconda3\\lib\\site-packages (1.12.0)\n",
      "Requirement already satisfied: pillow>=6.2.0 in c:\\users\\prave\\anaconda3\\lib\\site-packages (from streamlit) (8.4.0)\n",
      "Requirement already satisfied: requests>=2.4 in c:\\users\\prave\\anaconda3\\lib\\site-packages (from streamlit) (2.26.0)\n",
      "Requirement already satisfied: watchdog in c:\\users\\prave\\anaconda3\\lib\\site-packages (from streamlit) (2.1.3)\n",
      "Requirement already satisfied: protobuf<4,>=3.12 in c:\\users\\prave\\anaconda3\\lib\\site-packages (from streamlit) (3.20.3)\n",
      "Requirement already satisfied: pydeck>=0.1.dev5 in c:\\users\\prave\\anaconda3\\lib\\site-packages (from streamlit) (0.9.1)\n",
      "Requirement already satisfied: importlib-metadata>=1.4 in c:\\users\\prave\\anaconda3\\lib\\site-packages (from streamlit) (4.8.1)\n",
      "Requirement already satisfied: gitpython!=3.1.19 in c:\\users\\prave\\anaconda3\\lib\\site-packages (from streamlit) (3.1.44)\n",
      "Requirement already satisfied: semver in c:\\users\\prave\\anaconda3\\lib\\site-packages (from streamlit) (3.0.3)\n",
      "Requirement already satisfied: validators>=0.2 in c:\\users\\prave\\anaconda3\\lib\\site-packages (from streamlit) (0.34.0)\n",
      "Requirement already satisfied: tzlocal>=1.1 in c:\\users\\prave\\anaconda3\\lib\\site-packages (from streamlit) (5.2)\n",
      "Requirement already satisfied: cachetools>=4.0 in c:\\users\\prave\\anaconda3\\lib\\site-packages (from streamlit) (5.5.0)\n",
      "Requirement already satisfied: blinker>=1.0.0 in c:\\users\\prave\\anaconda3\\lib\\site-packages (from streamlit) (1.9.0)\n",
      "Requirement already satisfied: numpy in c:\\users\\prave\\anaconda3\\lib\\site-packages (from streamlit) (1.20.3)\n",
      "Requirement already satisfied: altair>=3.2.0 in c:\\users\\prave\\anaconda3\\lib\\site-packages (from streamlit) (4.2.2)\n",
      "Requirement already satisfied: pympler>=0.9 in c:\\users\\prave\\anaconda3\\lib\\site-packages (from streamlit) (1.1)\n",
      "Requirement already satisfied: pandas>=0.21.0 in c:\\users\\prave\\anaconda3\\lib\\site-packages (from streamlit) (1.3.4)\n",
      "Requirement already satisfied: typing-extensions>=3.10.0.0 in c:\\users\\prave\\anaconda3\\lib\\site-packages (from streamlit) (4.12.2)\n",
      "Requirement already satisfied: toml in c:\\users\\prave\\anaconda3\\lib\\site-packages (from streamlit) (0.10.2)\n",
      "Requirement already satisfied: python-dateutil in c:\\users\\prave\\anaconda3\\lib\\site-packages (from streamlit) (2.8.2)\n",
      "Requirement already satisfied: click>=7.0 in c:\\users\\prave\\anaconda3\\lib\\site-packages (from streamlit) (8.0.3)\n",
      "Requirement already satisfied: tornado>=5.0 in c:\\users\\prave\\anaconda3\\lib\\site-packages (from streamlit) (6.1)\n",
      "Requirement already satisfied: packaging>=14.1 in c:\\users\\prave\\anaconda3\\lib\\site-packages (from streamlit) (21.0)\n",
      "Requirement already satisfied: pyarrow>=4.0 in c:\\users\\prave\\anaconda3\\lib\\site-packages (from streamlit) (19.0.0)\n",
      "Requirement already satisfied: rich>=10.11.0 in c:\\users\\prave\\anaconda3\\lib\\site-packages (from streamlit) (13.9.4)\n",
      "Requirement already satisfied: jsonschema>=3.0 in c:\\users\\prave\\anaconda3\\lib\\site-packages (from altair>=3.2.0->streamlit) (3.2.0)\n",
      "Requirement already satisfied: entrypoints in c:\\users\\prave\\anaconda3\\lib\\site-packages (from altair>=3.2.0->streamlit) (0.3)\n",
      "Requirement already satisfied: toolz in c:\\users\\prave\\anaconda3\\lib\\site-packages (from altair>=3.2.0->streamlit) (0.11.1)\n",
      "Requirement already satisfied: jinja2 in c:\\users\\prave\\anaconda3\\lib\\site-packages (from altair>=3.2.0->streamlit) (2.11.3)\n",
      "Requirement already satisfied: colorama in c:\\users\\prave\\anaconda3\\lib\\site-packages (from click>=7.0->streamlit) (0.4.4)\n",
      "Requirement already satisfied: gitdb<5,>=4.0.1 in c:\\users\\prave\\anaconda3\\lib\\site-packages (from gitpython!=3.1.19->streamlit) (4.0.12)\n",
      "Requirement already satisfied: smmap<6,>=3.0.1 in c:\\users\\prave\\anaconda3\\lib\\site-packages (from gitdb<5,>=4.0.1->gitpython!=3.1.19->streamlit) (5.0.2)\n",
      "Requirement already satisfied: zipp>=0.5 in c:\\users\\prave\\anaconda3\\lib\\site-packages (from importlib-metadata>=1.4->streamlit) (3.6.0)\n",
      "Requirement already satisfied: six>=1.11.0 in c:\\users\\prave\\anaconda3\\lib\\site-packages (from jsonschema>=3.0->altair>=3.2.0->streamlit) (1.16.0)\n",
      "Requirement already satisfied: setuptools in c:\\users\\prave\\anaconda3\\lib\\site-packages (from jsonschema>=3.0->altair>=3.2.0->streamlit) (58.0.4)\n",
      "Requirement already satisfied: attrs>=17.4.0 in c:\\users\\prave\\anaconda3\\lib\\site-packages (from jsonschema>=3.0->altair>=3.2.0->streamlit) (21.2.0)\n",
      "Requirement already satisfied: pyrsistent>=0.14.0 in c:\\users\\prave\\anaconda3\\lib\\site-packages (from jsonschema>=3.0->altair>=3.2.0->streamlit) (0.18.0)\n",
      "Requirement already satisfied: pyparsing>=2.0.2 in c:\\users\\prave\\anaconda3\\lib\\site-packages (from packaging>=14.1->streamlit) (3.0.4)\n",
      "Requirement already satisfied: pytz>=2017.3 in c:\\users\\prave\\anaconda3\\lib\\site-packages (from pandas>=0.21.0->streamlit) (2021.3)\n",
      "Requirement already satisfied: MarkupSafe>=0.23 in c:\\users\\prave\\anaconda3\\lib\\site-packages (from jinja2->altair>=3.2.0->streamlit) (1.1.1)\n",
      "Requirement already satisfied: pywin32>=226 in c:\\users\\prave\\anaconda3\\lib\\site-packages (from pympler>=0.9->streamlit) (228)\n",
      "Requirement already satisfied: idna<4,>=2.5 in c:\\users\\prave\\anaconda3\\lib\\site-packages (from requests>=2.4->streamlit) (3.2)\n",
      "Requirement already satisfied: certifi>=2017.4.17 in c:\\users\\prave\\anaconda3\\lib\\site-packages (from requests>=2.4->streamlit) (2021.10.8)\n",
      "Requirement already satisfied: charset-normalizer~=2.0.0 in c:\\users\\prave\\anaconda3\\lib\\site-packages (from requests>=2.4->streamlit) (2.0.4)\n",
      "Requirement already satisfied: urllib3<1.27,>=1.21.1 in c:\\users\\prave\\anaconda3\\lib\\site-packages (from requests>=2.4->streamlit) (1.26.7)\n",
      "Requirement already satisfied: markdown-it-py>=2.2.0 in c:\\users\\prave\\anaconda3\\lib\\site-packages (from rich>=10.11.0->streamlit) (3.0.0)\n",
      "Requirement already satisfied: pygments<3.0.0,>=2.13.0 in c:\\users\\prave\\anaconda3\\lib\\site-packages (from rich>=10.11.0->streamlit) (2.19.1)\n",
      "Requirement already satisfied: mdurl~=0.1 in c:\\users\\prave\\anaconda3\\lib\\site-packages (from markdown-it-py>=2.2.0->rich>=10.11.0->streamlit) (0.1.2)\n",
      "Requirement already satisfied: tzdata in c:\\users\\prave\\anaconda3\\lib\\site-packages (from tzlocal>=1.1->streamlit) (2024.2)\n"
     ]
    }
   ],
   "source": [
    "!pip install streamlit"
   ]
  },
  {
   "cell_type": "code",
   "execution_count": null,
   "id": "028ae0ce",
   "metadata": {},
   "outputs": [],
   "source": [
    "pip install --upgrade streamlit"
   ]
  },
  {
   "cell_type": "code",
   "execution_count": null,
   "id": "daf38252",
   "metadata": {},
   "outputs": [],
   "source": [
    "!pip install altair==4.2.2"
   ]
  },
  {
   "cell_type": "code",
   "execution_count": 15,
   "id": "2c35a796",
   "metadata": {},
   "outputs": [
    {
     "name": "stdout",
     "output_type": "stream",
     "text": [
      "Name: streamlit\n",
      "Version: 1.12.0\n",
      "Summary: The fastest way to build data apps in Python\n",
      "Home-page: https://streamlit.io\n",
      "Author: Streamlit Inc\n",
      "Author-email: hello@streamlit.io\n",
      "License: Apache 2\n",
      "Location: c:\\users\\prave\\anaconda3\\lib\\site-packages\n",
      "Requires: importlib-metadata, click, cachetools, requests, numpy, toml, altair, tzlocal, pillow, pandas, python-dateutil, pympler, validators, pydeck, gitpython, typing-extensions, semver, protobuf, pyarrow, rich, tornado, watchdog, packaging, blinker\n",
      "Required-by: \n"
     ]
    }
   ],
   "source": [
    "!pip show streamlit"
   ]
  },
  {
   "cell_type": "code",
   "execution_count": 17,
   "id": "52c25a60",
   "metadata": {},
   "outputs": [
    {
     "name": "stdout",
     "output_type": "stream",
     "text": [
      "Requirement already satisfied: streamlit==1.12.0 in c:\\users\\prave\\anaconda3\\lib\\site-packages (1.12.0)\n",
      "Requirement already satisfied: altair==4.2.2 in c:\\users\\prave\\anaconda3\\lib\\site-packages (4.2.2)\n",
      "Requirement already satisfied: packaging>=14.1 in c:\\users\\prave\\anaconda3\\lib\\site-packages (from streamlit==1.12.0) (21.0)\n",
      "Requirement already satisfied: rich>=10.11.0 in c:\\users\\prave\\anaconda3\\lib\\site-packages (from streamlit==1.12.0) (13.9.4)\n",
      "Requirement already satisfied: typing-extensions>=3.10.0.0 in c:\\users\\prave\\anaconda3\\lib\\site-packages (from streamlit==1.12.0) (4.12.2)\n",
      "Requirement already satisfied: watchdog in c:\\users\\prave\\anaconda3\\lib\\site-packages (from streamlit==1.12.0) (2.1.3)\n",
      "Requirement already satisfied: semver in c:\\users\\prave\\anaconda3\\lib\\site-packages (from streamlit==1.12.0) (3.0.3)\n",
      "Requirement already satisfied: requests>=2.4 in c:\\users\\prave\\anaconda3\\lib\\site-packages (from streamlit==1.12.0) (2.26.0)\n",
      "Requirement already satisfied: pillow>=6.2.0 in c:\\users\\prave\\anaconda3\\lib\\site-packages (from streamlit==1.12.0) (8.4.0)\n",
      "Requirement already satisfied: importlib-metadata>=1.4 in c:\\users\\prave\\anaconda3\\lib\\site-packages (from streamlit==1.12.0) (4.8.1)\n",
      "Requirement already satisfied: validators>=0.2 in c:\\users\\prave\\anaconda3\\lib\\site-packages (from streamlit==1.12.0) (0.34.0)\n",
      "Requirement already satisfied: tornado>=5.0 in c:\\users\\prave\\anaconda3\\lib\\site-packages (from streamlit==1.12.0) (6.1)\n",
      "Requirement already satisfied: toml in c:\\users\\prave\\anaconda3\\lib\\site-packages (from streamlit==1.12.0) (0.10.2)\n",
      "Requirement already satisfied: python-dateutil in c:\\users\\prave\\anaconda3\\lib\\site-packages (from streamlit==1.12.0) (2.8.2)\n",
      "Requirement already satisfied: cachetools>=4.0 in c:\\users\\prave\\anaconda3\\lib\\site-packages (from streamlit==1.12.0) (5.5.0)\n",
      "Requirement already satisfied: pympler>=0.9 in c:\\users\\prave\\anaconda3\\lib\\site-packages (from streamlit==1.12.0) (1.1)\n",
      "Requirement already satisfied: tzlocal>=1.1 in c:\\users\\prave\\anaconda3\\lib\\site-packages (from streamlit==1.12.0) (5.2)\n",
      "Requirement already satisfied: pydeck>=0.1.dev5 in c:\\users\\prave\\anaconda3\\lib\\site-packages (from streamlit==1.12.0) (0.9.1)\n",
      "Requirement already satisfied: blinker>=1.0.0 in c:\\users\\prave\\anaconda3\\lib\\site-packages (from streamlit==1.12.0) (1.9.0)\n",
      "Requirement already satisfied: click>=7.0 in c:\\users\\prave\\anaconda3\\lib\\site-packages (from streamlit==1.12.0) (8.0.3)\n",
      "Requirement already satisfied: protobuf<4,>=3.12 in c:\\users\\prave\\anaconda3\\lib\\site-packages (from streamlit==1.12.0) (3.20.3)\n",
      "Requirement already satisfied: pyarrow>=4.0 in c:\\users\\prave\\anaconda3\\lib\\site-packages (from streamlit==1.12.0) (19.0.0)\n",
      "Requirement already satisfied: gitpython!=3.1.19 in c:\\users\\prave\\anaconda3\\lib\\site-packages (from streamlit==1.12.0) (3.1.44)\n",
      "Requirement already satisfied: pandas>=0.21.0 in c:\\users\\prave\\anaconda3\\lib\\site-packages (from streamlit==1.12.0) (1.3.4)\n",
      "Requirement already satisfied: numpy in c:\\users\\prave\\anaconda3\\lib\\site-packages (from streamlit==1.12.0) (1.20.3)\n",
      "Requirement already satisfied: toolz in c:\\users\\prave\\anaconda3\\lib\\site-packages (from altair==4.2.2) (0.11.1)\n",
      "Requirement already satisfied: jsonschema>=3.0 in c:\\users\\prave\\anaconda3\\lib\\site-packages (from altair==4.2.2) (3.2.0)\n",
      "Requirement already satisfied: entrypoints in c:\\users\\prave\\anaconda3\\lib\\site-packages (from altair==4.2.2) (0.3)\n",
      "Requirement already satisfied: jinja2 in c:\\users\\prave\\anaconda3\\lib\\site-packages (from altair==4.2.2) (2.11.3)\n",
      "Requirement already satisfied: colorama in c:\\users\\prave\\anaconda3\\lib\\site-packages (from click>=7.0->streamlit==1.12.0) (0.4.4)\n",
      "Requirement already satisfied: gitdb<5,>=4.0.1 in c:\\users\\prave\\anaconda3\\lib\\site-packages (from gitpython!=3.1.19->streamlit==1.12.0) (4.0.12)\n",
      "Requirement already satisfied: smmap<6,>=3.0.1 in c:\\users\\prave\\anaconda3\\lib\\site-packages (from gitdb<5,>=4.0.1->gitpython!=3.1.19->streamlit==1.12.0) (5.0.2)\n",
      "Requirement already satisfied: zipp>=0.5 in c:\\users\\prave\\anaconda3\\lib\\site-packages (from importlib-metadata>=1.4->streamlit==1.12.0) (3.6.0)\n",
      "Requirement already satisfied: pyrsistent>=0.14.0 in c:\\users\\prave\\anaconda3\\lib\\site-packages (from jsonschema>=3.0->altair==4.2.2) (0.18.0)\n",
      "Requirement already satisfied: six>=1.11.0 in c:\\users\\prave\\anaconda3\\lib\\site-packages (from jsonschema>=3.0->altair==4.2.2) (1.16.0)\n",
      "Requirement already satisfied: setuptools in c:\\users\\prave\\anaconda3\\lib\\site-packages (from jsonschema>=3.0->altair==4.2.2) (58.0.4)\n",
      "Requirement already satisfied: attrs>=17.4.0 in c:\\users\\prave\\anaconda3\\lib\\site-packages (from jsonschema>=3.0->altair==4.2.2) (21.2.0)\n",
      "Requirement already satisfied: pyparsing>=2.0.2 in c:\\users\\prave\\anaconda3\\lib\\site-packages (from packaging>=14.1->streamlit==1.12.0) (3.0.4)\n",
      "Requirement already satisfied: pytz>=2017.3 in c:\\users\\prave\\anaconda3\\lib\\site-packages (from pandas>=0.21.0->streamlit==1.12.0) (2021.3)\n",
      "Requirement already satisfied: MarkupSafe>=0.23 in c:\\users\\prave\\anaconda3\\lib\\site-packages (from jinja2->altair==4.2.2) (1.1.1)\n",
      "Requirement already satisfied: pywin32>=226 in c:\\users\\prave\\anaconda3\\lib\\site-packages (from pympler>=0.9->streamlit==1.12.0) (228)\n",
      "Requirement already satisfied: urllib3<1.27,>=1.21.1 in c:\\users\\prave\\anaconda3\\lib\\site-packages (from requests>=2.4->streamlit==1.12.0) (1.26.7)\n",
      "Requirement already satisfied: idna<4,>=2.5 in c:\\users\\prave\\anaconda3\\lib\\site-packages (from requests>=2.4->streamlit==1.12.0) (3.2)\n",
      "Requirement already satisfied: certifi>=2017.4.17 in c:\\users\\prave\\anaconda3\\lib\\site-packages (from requests>=2.4->streamlit==1.12.0) (2021.10.8)\n",
      "Requirement already satisfied: charset-normalizer~=2.0.0 in c:\\users\\prave\\anaconda3\\lib\\site-packages (from requests>=2.4->streamlit==1.12.0) (2.0.4)\n",
      "Requirement already satisfied: pygments<3.0.0,>=2.13.0 in c:\\users\\prave\\anaconda3\\lib\\site-packages (from rich>=10.11.0->streamlit==1.12.0) (2.19.1)\n",
      "Requirement already satisfied: markdown-it-py>=2.2.0 in c:\\users\\prave\\anaconda3\\lib\\site-packages (from rich>=10.11.0->streamlit==1.12.0) (3.0.0)\n",
      "Requirement already satisfied: mdurl~=0.1 in c:\\users\\prave\\anaconda3\\lib\\site-packages (from markdown-it-py>=2.2.0->rich>=10.11.0->streamlit==1.12.0) (0.1.2)\n",
      "Requirement already satisfied: tzdata in c:\\users\\prave\\anaconda3\\lib\\site-packages (from tzlocal>=1.1->streamlit==1.12.0) (2024.2)\n"
     ]
    }
   ],
   "source": [
    "!pip install streamlit==1.12.0 altair==4.2.2"
   ]
  },
  {
   "cell_type": "code",
   "execution_count": 18,
   "id": "9f772e1c",
   "metadata": {},
   "outputs": [
    {
     "ename": "ImportError",
     "evalue": "cannot import name 'curry' from 'altair.vegalite.data' (C:\\Users\\prave\\anaconda3\\lib\\site-packages\\altair\\vegalite\\data.py)",
     "output_type": "error",
     "traceback": [
      "\u001b[1;31m---------------------------------------------------------------------------\u001b[0m",
      "\u001b[1;31mImportError\u001b[0m                               Traceback (most recent call last)",
      "\u001b[1;32m~\\AppData\\Local\\Temp/ipykernel_10592/942006150.py\u001b[0m in \u001b[0;36m<module>\u001b[1;34m\u001b[0m\n\u001b[1;32m----> 1\u001b[1;33m \u001b[1;32mimport\u001b[0m \u001b[0mstreamlit\u001b[0m \u001b[1;32mas\u001b[0m \u001b[0mst\u001b[0m\u001b[1;33m\u001b[0m\u001b[1;33m\u001b[0m\u001b[0m\n\u001b[0m",
      "\u001b[1;32m~\\anaconda3\\lib\\site-packages\\streamlit\\__init__.py\u001b[0m in \u001b[0;36m<module>\u001b[1;34m\u001b[0m\n\u001b[0;32m     68\u001b[0m \u001b[1;32mfrom\u001b[0m \u001b[0mstreamlit\u001b[0m \u001b[1;32mimport\u001b[0m \u001b[0msource_util\u001b[0m \u001b[1;32mas\u001b[0m \u001b[0m_source_util\u001b[0m\u001b[1;33m\u001b[0m\u001b[1;33m\u001b[0m\u001b[0m\n\u001b[0;32m     69\u001b[0m \u001b[1;32mfrom\u001b[0m \u001b[0mstreamlit\u001b[0m \u001b[1;32mimport\u001b[0m \u001b[0mstring_util\u001b[0m \u001b[1;32mas\u001b[0m \u001b[0m_string_util\u001b[0m\u001b[1;33m\u001b[0m\u001b[1;33m\u001b[0m\u001b[0m\n\u001b[1;32m---> 70\u001b[1;33m \u001b[1;32mfrom\u001b[0m \u001b[0mstreamlit\u001b[0m\u001b[1;33m.\u001b[0m\u001b[0mdelta_generator\u001b[0m \u001b[1;32mimport\u001b[0m \u001b[0mDeltaGenerator\u001b[0m \u001b[1;32mas\u001b[0m \u001b[0m_DeltaGenerator\u001b[0m\u001b[1;33m\u001b[0m\u001b[1;33m\u001b[0m\u001b[0m\n\u001b[0m\u001b[0;32m     71\u001b[0m from streamlit.runtime.scriptrunner import (\n\u001b[0;32m     72\u001b[0m     \u001b[0madd_script_run_ctx\u001b[0m \u001b[1;32mas\u001b[0m \u001b[0m_add_script_run_ctx\u001b[0m\u001b[1;33m,\u001b[0m\u001b[1;33m\u001b[0m\u001b[1;33m\u001b[0m\u001b[0m\n",
      "\u001b[1;32m~\\anaconda3\\lib\\site-packages\\streamlit\\delta_generator.py\u001b[0m in \u001b[0;36m<module>\u001b[1;34m\u001b[0m\n\u001b[0;32m     88\u001b[0m \u001b[1;31m# We select between them with the DataFrameElementSelectorMixin.\u001b[0m\u001b[1;33m\u001b[0m\u001b[1;33m\u001b[0m\u001b[0m\n\u001b[0;32m     89\u001b[0m \u001b[1;32mfrom\u001b[0m \u001b[0mstreamlit\u001b[0m\u001b[1;33m.\u001b[0m\u001b[0melements\u001b[0m\u001b[1;33m.\u001b[0m\u001b[0marrow\u001b[0m \u001b[1;32mimport\u001b[0m \u001b[0mArrowMixin\u001b[0m\u001b[1;33m\u001b[0m\u001b[1;33m\u001b[0m\u001b[0m\n\u001b[1;32m---> 90\u001b[1;33m \u001b[1;32mfrom\u001b[0m \u001b[0mstreamlit\u001b[0m\u001b[1;33m.\u001b[0m\u001b[0melements\u001b[0m\u001b[1;33m.\u001b[0m\u001b[0marrow_altair\u001b[0m \u001b[1;32mimport\u001b[0m \u001b[0mArrowAltairMixin\u001b[0m\u001b[1;33m\u001b[0m\u001b[1;33m\u001b[0m\u001b[0m\n\u001b[0m\u001b[0;32m     91\u001b[0m \u001b[1;32mfrom\u001b[0m \u001b[0mstreamlit\u001b[0m\u001b[1;33m.\u001b[0m\u001b[0melements\u001b[0m\u001b[1;33m.\u001b[0m\u001b[0marrow_vega_lite\u001b[0m \u001b[1;32mimport\u001b[0m \u001b[0mArrowVegaLiteMixin\u001b[0m\u001b[1;33m\u001b[0m\u001b[1;33m\u001b[0m\u001b[0m\n\u001b[0;32m     92\u001b[0m \u001b[1;32mfrom\u001b[0m \u001b[0mstreamlit\u001b[0m\u001b[1;33m.\u001b[0m\u001b[0melements\u001b[0m\u001b[1;33m.\u001b[0m\u001b[0mlegacy_data_frame\u001b[0m \u001b[1;32mimport\u001b[0m \u001b[0mLegacyDataFrameMixin\u001b[0m\u001b[1;33m\u001b[0m\u001b[1;33m\u001b[0m\u001b[0m\n",
      "\u001b[1;32m~\\anaconda3\\lib\\site-packages\\streamlit\\elements\\arrow_altair.py\u001b[0m in \u001b[0;36m<module>\u001b[1;34m\u001b[0m\n\u001b[0;32m     33\u001b[0m \u001b[1;32mimport\u001b[0m \u001b[0maltair\u001b[0m \u001b[1;32mas\u001b[0m \u001b[0malt\u001b[0m\u001b[1;33m\u001b[0m\u001b[1;33m\u001b[0m\u001b[0m\n\u001b[0;32m     34\u001b[0m \u001b[1;32mimport\u001b[0m \u001b[0mpandas\u001b[0m \u001b[1;32mas\u001b[0m \u001b[0mpd\u001b[0m\u001b[1;33m\u001b[0m\u001b[1;33m\u001b[0m\u001b[0m\n\u001b[1;32m---> 35\u001b[1;33m \u001b[1;32mfrom\u001b[0m \u001b[0maltair\u001b[0m\u001b[1;33m.\u001b[0m\u001b[0mvegalite\u001b[0m\u001b[1;33m.\u001b[0m\u001b[0mv4\u001b[0m\u001b[1;33m.\u001b[0m\u001b[0mapi\u001b[0m \u001b[1;32mimport\u001b[0m \u001b[0mChart\u001b[0m\u001b[1;33m\u001b[0m\u001b[1;33m\u001b[0m\u001b[0m\n\u001b[0m\u001b[0;32m     36\u001b[0m \u001b[1;32mfrom\u001b[0m \u001b[0mpandas\u001b[0m\u001b[1;33m.\u001b[0m\u001b[0mapi\u001b[0m\u001b[1;33m.\u001b[0m\u001b[0mtypes\u001b[0m \u001b[1;32mimport\u001b[0m \u001b[0minfer_dtype\u001b[0m\u001b[1;33m\u001b[0m\u001b[1;33m\u001b[0m\u001b[0m\n\u001b[0;32m     37\u001b[0m \u001b[1;33m\u001b[0m\u001b[0m\n",
      "\u001b[1;32m~\\anaconda3\\lib\\site-packages\\altair\\vegalite\\v4\\__init__.py\u001b[0m in \u001b[0;36m<module>\u001b[1;34m\u001b[0m\n\u001b[0;32m      1\u001b[0m \u001b[1;31m# flake8: noqa\u001b[0m\u001b[1;33m\u001b[0m\u001b[1;33m\u001b[0m\u001b[0m\n\u001b[0;32m      2\u001b[0m \u001b[1;32mfrom\u001b[0m \u001b[1;33m.\u001b[0m\u001b[0mschema\u001b[0m \u001b[1;32mimport\u001b[0m \u001b[1;33m*\u001b[0m\u001b[1;33m\u001b[0m\u001b[1;33m\u001b[0m\u001b[0m\n\u001b[1;32m----> 3\u001b[1;33m \u001b[1;32mfrom\u001b[0m \u001b[1;33m.\u001b[0m\u001b[0mapi\u001b[0m \u001b[1;32mimport\u001b[0m \u001b[1;33m*\u001b[0m\u001b[1;33m\u001b[0m\u001b[1;33m\u001b[0m\u001b[0m\n\u001b[0m\u001b[0;32m      4\u001b[0m \u001b[1;33m\u001b[0m\u001b[0m\n\u001b[0;32m      5\u001b[0m \u001b[1;32mfrom\u001b[0m \u001b[1;33m...\u001b[0m\u001b[0mdatasets\u001b[0m \u001b[1;32mimport\u001b[0m \u001b[0mlist_datasets\u001b[0m\u001b[1;33m,\u001b[0m \u001b[0mload_dataset\u001b[0m\u001b[1;33m\u001b[0m\u001b[1;33m\u001b[0m\u001b[0m\n",
      "\u001b[1;32m~\\anaconda3\\lib\\site-packages\\altair\\vegalite\\v4\\api.py\u001b[0m in \u001b[0;36m<module>\u001b[1;34m\u001b[0m\n\u001b[0;32m     10\u001b[0m \u001b[1;32mfrom\u001b[0m \u001b[1;33m.\u001b[0m\u001b[0mschema\u001b[0m \u001b[1;32mimport\u001b[0m \u001b[0mcore\u001b[0m\u001b[1;33m,\u001b[0m \u001b[0mchannels\u001b[0m\u001b[1;33m,\u001b[0m \u001b[0mmixins\u001b[0m\u001b[1;33m,\u001b[0m \u001b[0mUndefined\u001b[0m\u001b[1;33m,\u001b[0m \u001b[0mSCHEMA_URL\u001b[0m\u001b[1;33m\u001b[0m\u001b[1;33m\u001b[0m\u001b[0m\n\u001b[0;32m     11\u001b[0m \u001b[1;33m\u001b[0m\u001b[0m\n\u001b[1;32m---> 12\u001b[1;33m \u001b[1;32mfrom\u001b[0m \u001b[1;33m.\u001b[0m\u001b[0mdata\u001b[0m \u001b[1;32mimport\u001b[0m \u001b[0mdata_transformers\u001b[0m\u001b[1;33m\u001b[0m\u001b[1;33m\u001b[0m\u001b[0m\n\u001b[0m\u001b[0;32m     13\u001b[0m \u001b[1;32mfrom\u001b[0m \u001b[1;33m...\u001b[0m \u001b[1;32mimport\u001b[0m \u001b[0mutils\u001b[0m\u001b[1;33m,\u001b[0m \u001b[0mexpr\u001b[0m\u001b[1;33m\u001b[0m\u001b[1;33m\u001b[0m\u001b[0m\n\u001b[0;32m     14\u001b[0m \u001b[1;32mfrom\u001b[0m \u001b[1;33m.\u001b[0m\u001b[0mdisplay\u001b[0m \u001b[1;32mimport\u001b[0m \u001b[0mrenderers\u001b[0m\u001b[1;33m,\u001b[0m \u001b[0mVEGALITE_VERSION\u001b[0m\u001b[1;33m,\u001b[0m \u001b[0mVEGAEMBED_VERSION\u001b[0m\u001b[1;33m,\u001b[0m \u001b[0mVEGA_VERSION\u001b[0m\u001b[1;33m\u001b[0m\u001b[1;33m\u001b[0m\u001b[0m\n",
      "\u001b[1;32m~\\anaconda3\\lib\\site-packages\\altair\\vegalite\\v4\\data.py\u001b[0m in \u001b[0;36m<module>\u001b[1;34m\u001b[0m\n\u001b[1;32m----> 1\u001b[1;33m from ..data import (\n\u001b[0m\u001b[0;32m      2\u001b[0m     \u001b[0mMaxRowsError\u001b[0m\u001b[1;33m,\u001b[0m\u001b[1;33m\u001b[0m\u001b[1;33m\u001b[0m\u001b[0m\n\u001b[0;32m      3\u001b[0m     \u001b[0mcurry\u001b[0m\u001b[1;33m,\u001b[0m\u001b[1;33m\u001b[0m\u001b[1;33m\u001b[0m\u001b[0m\n\u001b[0;32m      4\u001b[0m     \u001b[0mdefault_data_transformer\u001b[0m\u001b[1;33m,\u001b[0m\u001b[1;33m\u001b[0m\u001b[1;33m\u001b[0m\u001b[0m\n\u001b[0;32m      5\u001b[0m     \u001b[0mlimit_rows\u001b[0m\u001b[1;33m,\u001b[0m\u001b[1;33m\u001b[0m\u001b[1;33m\u001b[0m\u001b[0m\n",
      "\u001b[1;31mImportError\u001b[0m: cannot import name 'curry' from 'altair.vegalite.data' (C:\\Users\\prave\\anaconda3\\lib\\site-packages\\altair\\vegalite\\data.py)"
     ]
    }
   ],
   "source": [
    "import streamlit as st"
   ]
  },
  {
   "cell_type": "code",
   "execution_count": 19,
   "id": "a48ddabd",
   "metadata": {},
   "outputs": [
    {
     "name": "stdout",
     "output_type": "stream",
     "text": [
      "Name: streamlit\n",
      "Version: 1.12.0\n",
      "Summary: The fastest way to build data apps in Python\n",
      "Home-page: https://streamlit.io\n",
      "Author: Streamlit Inc\n",
      "Author-email: hello@streamlit.io\n",
      "License: Apache 2\n",
      "Location: c:\\users\\prave\\anaconda3\\lib\\site-packages\n",
      "Requires: pyarrow, semver, pandas, pympler, gitpython, requests, protobuf, numpy, tzlocal, cachetools, validators, watchdog, importlib-metadata, blinker, packaging, toml, click, pillow, typing-extensions, pydeck, altair, python-dateutil, rich, tornado\n",
      "Required-by: \n",
      "---\n",
      "Name: altair\n",
      "Version: 4.2.2\n",
      "Summary: Altair: A declarative statistical visualization library for Python.\n",
      "Home-page: http://altair-viz.github.io\n",
      "Author: Brian E. Granger / Jake VanderPlas\n",
      "Author-email: jakevdp@gmail.com\n",
      "License: BSD 3-clause\n",
      "Location: c:\\users\\prave\\anaconda3\\lib\\site-packages\n",
      "Requires: jsonschema, numpy, toolz, jinja2, pandas, entrypoints\n",
      "Required-by: streamlit\n"
     ]
    }
   ],
   "source": [
    "! pip show streamlit altair"
   ]
  },
  {
   "cell_type": "code",
   "execution_count": 20,
   "id": "ea65814b",
   "metadata": {},
   "outputs": [
    {
     "name": "stdout",
     "output_type": "stream",
     "text": [
      "Found existing installation: streamlit 1.12.0\n",
      "Uninstalling streamlit-1.12.0:\n",
      "  Successfully uninstalled streamlit-1.12.0\n",
      "Found existing installation: altair 4.2.2\n",
      "Uninstalling altair-4.2.2:\n",
      "  Successfully uninstalled altair-4.2.2\n"
     ]
    }
   ],
   "source": [
    "!pip uninstall streamlit altair -y"
   ]
  },
  {
   "cell_type": "code",
   "execution_count": 22,
   "id": "95677fb3",
   "metadata": {},
   "outputs": [
    {
     "name": "stdout",
     "output_type": "stream",
     "text": [
      "Found existing installation: toolz 0.11.1\n",
      "Uninstalling toolz-0.11.1:\n",
      "  Successfully uninstalled toolz-0.11.1\n"
     ]
    },
    {
     "name": "stderr",
     "output_type": "stream",
     "text": [
      "WARNING: Skipping vega-datasets as it is not installed.\n"
     ]
    }
   ],
   "source": [
    "!pip uninstall vega_datasets toolz -y "
   ]
  },
  {
   "cell_type": "code",
   "execution_count": 26,
   "id": "1dc2597d",
   "metadata": {},
   "outputs": [
    {
     "name": "stderr",
     "output_type": "stream",
     "text": [
      "'grep' is not recognized as an internal or external command,\n",
      "operable program or batch file.\n"
     ]
    }
   ],
   "source": [
    "!pip list | grep toolz"
   ]
  },
  {
   "cell_type": "code",
   "execution_count": 27,
   "id": "b8723bc1",
   "metadata": {},
   "outputs": [
    {
     "name": "stdout",
     "output_type": "stream",
     "text": [
      "Found existing installation: cytoolz 0.11.0\n",
      "Uninstalling cytoolz-0.11.0:\n",
      "  Successfully uninstalled cytoolz-0.11.0\n"
     ]
    },
    {
     "name": "stderr",
     "output_type": "stream",
     "text": [
      "WARNING: Skipping toolz as it is not installed.\n"
     ]
    }
   ],
   "source": [
    "!pip uninstall toolz cytoolz -y"
   ]
  },
  {
   "cell_type": "code",
   "execution_count": 28,
   "id": "152ac3b5",
   "metadata": {},
   "outputs": [
    {
     "name": "stderr",
     "output_type": "stream",
     "text": [
      "WARNING: Skipping altair as it is not installed.\n"
     ]
    }
   ],
   "source": [
    "!pip uninstall altair -y"
   ]
  },
  {
   "cell_type": "code",
   "execution_count": 29,
   "id": "4960df08",
   "metadata": {},
   "outputs": [
    {
     "name": "stdout",
     "output_type": "stream",
     "text": [
      "Collecting altair==4.2.2\n",
      "  Using cached altair-4.2.2-py3-none-any.whl (813 kB)\n",
      "Requirement already satisfied: jinja2 in c:\\users\\prave\\anaconda3\\lib\\site-packages (from altair==4.2.2) (2.11.3)\n",
      "Requirement already satisfied: entrypoints in c:\\users\\prave\\anaconda3\\lib\\site-packages (from altair==4.2.2) (0.3)\n",
      "Requirement already satisfied: numpy in c:\\users\\prave\\anaconda3\\lib\\site-packages (from altair==4.2.2) (1.20.3)\n",
      "Requirement already satisfied: pandas>=0.18 in c:\\users\\prave\\anaconda3\\lib\\site-packages (from altair==4.2.2) (1.3.4)\n",
      "Collecting toolz\n",
      "  Downloading toolz-1.0.0-py3-none-any.whl (56 kB)\n",
      "Requirement already satisfied: jsonschema>=3.0 in c:\\users\\prave\\anaconda3\\lib\\site-packages (from altair==4.2.2) (3.2.0)\n",
      "Requirement already satisfied: attrs>=17.4.0 in c:\\users\\prave\\anaconda3\\lib\\site-packages (from jsonschema>=3.0->altair==4.2.2) (21.2.0)\n",
      "Requirement already satisfied: six>=1.11.0 in c:\\users\\prave\\anaconda3\\lib\\site-packages (from jsonschema>=3.0->altair==4.2.2) (1.16.0)\n",
      "Requirement already satisfied: setuptools in c:\\users\\prave\\anaconda3\\lib\\site-packages (from jsonschema>=3.0->altair==4.2.2) (58.0.4)\n",
      "Requirement already satisfied: pyrsistent>=0.14.0 in c:\\users\\prave\\anaconda3\\lib\\site-packages (from jsonschema>=3.0->altair==4.2.2) (0.18.0)\n",
      "Requirement already satisfied: pytz>=2017.3 in c:\\users\\prave\\anaconda3\\lib\\site-packages (from pandas>=0.18->altair==4.2.2) (2021.3)\n",
      "Requirement already satisfied: python-dateutil>=2.7.3 in c:\\users\\prave\\anaconda3\\lib\\site-packages (from pandas>=0.18->altair==4.2.2) (2.8.2)\n",
      "Requirement already satisfied: MarkupSafe>=0.23 in c:\\users\\prave\\anaconda3\\lib\\site-packages (from jinja2->altair==4.2.2) (1.1.1)\n",
      "Installing collected packages: toolz, altair\n",
      "Successfully installed altair-4.2.2 toolz-1.0.0\n"
     ]
    }
   ],
   "source": [
    "!pip install altair==4.2.2"
   ]
  },
  {
   "cell_type": "code",
   "execution_count": 30,
   "id": "c7a08c9e",
   "metadata": {},
   "outputs": [
    {
     "name": "stdout",
     "output_type": "stream",
     "text": [
      "Requirement already satisfied: pandas in c:\\users\\prave\\anaconda3\\lib\\site-packages (1.3.4)\n",
      "Requirement already satisfied: numpy in c:\\users\\prave\\anaconda3\\lib\\site-packages (1.20.3)\n",
      "Requirement already satisfied: matplotlib in c:\\users\\prave\\anaconda3\\lib\\site-packages (3.4.3)\n",
      "Requirement already satisfied: python-dateutil>=2.7.3 in c:\\users\\prave\\anaconda3\\lib\\site-packages (from pandas) (2.8.2)\n",
      "Requirement already satisfied: pytz>=2017.3 in c:\\users\\prave\\anaconda3\\lib\\site-packages (from pandas) (2021.3)\n",
      "Requirement already satisfied: kiwisolver>=1.0.1 in c:\\users\\prave\\anaconda3\\lib\\site-packages (from matplotlib) (1.3.1)\n",
      "Requirement already satisfied: cycler>=0.10 in c:\\users\\prave\\anaconda3\\lib\\site-packages (from matplotlib) (0.10.0)\n",
      "Requirement already satisfied: pillow>=6.2.0 in c:\\users\\prave\\anaconda3\\lib\\site-packages (from matplotlib) (8.4.0)\n",
      "Requirement already satisfied: pyparsing>=2.2.1 in c:\\users\\prave\\anaconda3\\lib\\site-packages (from matplotlib) (3.0.4)\n",
      "Requirement already satisfied: six in c:\\users\\prave\\anaconda3\\lib\\site-packages (from cycler>=0.10->matplotlib) (1.16.0)\n"
     ]
    }
   ],
   "source": [
    "!pip install pandas numpy matplotlib"
   ]
  },
  {
   "cell_type": "code",
   "execution_count": 31,
   "id": "9fada3ba",
   "metadata": {},
   "outputs": [
    {
     "name": "stdout",
     "output_type": "stream",
     "text": [
      "Collecting streamlit\n",
      "  Using cached streamlit-1.12.0-py2.py3-none-any.whl (9.1 MB)\n",
      "Collecting altair\n",
      "  Using cached altair-5.5.0-py3-none-any.whl (731 kB)\n",
      "Collecting pandas\n",
      "  Downloading pandas-2.2.3-cp39-cp39-win_amd64.whl (11.6 MB)\n",
      "Collecting numpy\n",
      "  Downloading numpy-2.0.2-cp39-cp39-win_amd64.whl (15.9 MB)\n",
      "Collecting matplotlib\n",
      "  Downloading matplotlib-3.9.4-cp39-cp39-win_amd64.whl (7.8 MB)\n",
      "Collecting cachetools>=4.0\n",
      "  Using cached cachetools-5.5.0-py3-none-any.whl (9.5 kB)\n",
      "Collecting tzlocal>=1.1\n",
      "  Using cached tzlocal-5.2-py3-none-any.whl (17 kB)\n",
      "Collecting pympler>=0.9\n",
      "  Using cached Pympler-1.1-py3-none-any.whl (165 kB)\n",
      "Collecting typing-extensions>=3.10.0.0\n",
      "  Using cached typing_extensions-4.12.2-py3-none-any.whl (37 kB)\n",
      "Collecting pyarrow>=4.0\n",
      "  Using cached pyarrow-19.0.0-cp39-cp39-win_amd64.whl (25.5 MB)\n",
      "Collecting watchdog\n",
      "  Downloading watchdog-6.0.0-py3-none-win_amd64.whl (79 kB)\n",
      "Collecting pillow>=6.2.0\n",
      "  Downloading pillow-11.1.0-cp39-cp39-win_amd64.whl (2.6 MB)\n",
      "Collecting click>=7.0\n",
      "  Downloading click-8.1.8-py3-none-any.whl (98 kB)\n",
      "Collecting toml\n",
      "  Downloading toml-0.10.2-py2.py3-none-any.whl (16 kB)\n",
      "Collecting packaging>=14.1\n",
      "  Downloading packaging-24.2-py3-none-any.whl (65 kB)\n",
      "Collecting semver\n",
      "  Using cached semver-3.0.3-py3-none-any.whl (17 kB)\n",
      "Collecting gitpython!=3.1.19\n",
      "  Using cached GitPython-3.1.44-py3-none-any.whl (207 kB)\n",
      "Collecting protobuf<4,>=3.12\n",
      "  Using cached protobuf-3.20.3-cp39-cp39-win_amd64.whl (904 kB)\n",
      "Collecting blinker>=1.0.0\n",
      "  Using cached blinker-1.9.0-py3-none-any.whl (8.5 kB)\n",
      "Collecting rich>=10.11.0\n",
      "  Using cached rich-13.9.4-py3-none-any.whl (242 kB)\n",
      "Collecting requests>=2.4\n",
      "  Downloading requests-2.32.3-py3-none-any.whl (64 kB)\n",
      "Collecting validators>=0.2\n",
      "  Using cached validators-0.34.0-py3-none-any.whl (43 kB)\n",
      "Collecting python-dateutil\n",
      "  Downloading python_dateutil-2.9.0.post0-py2.py3-none-any.whl (229 kB)\n",
      "Collecting tornado>=5.0\n",
      "  Downloading tornado-6.4.2-cp38-abi3-win_amd64.whl (438 kB)\n",
      "Collecting pydeck>=0.1.dev5\n",
      "  Using cached pydeck-0.9.1-py2.py3-none-any.whl (6.9 MB)\n",
      "Collecting importlib-metadata>=1.4\n",
      "  Downloading importlib_metadata-8.5.0-py3-none-any.whl (26 kB)\n",
      "Collecting narwhals>=1.14.2\n",
      "  Using cached narwhals-1.22.0-py3-none-any.whl (297 kB)\n",
      "Collecting jinja2\n",
      "  Downloading jinja2-3.1.5-py3-none-any.whl (134 kB)\n",
      "Collecting jsonschema>=3.0\n",
      "  Downloading jsonschema-4.23.0-py3-none-any.whl (88 kB)\n",
      "Collecting pytz>=2020.1\n",
      "  Downloading pytz-2024.2-py2.py3-none-any.whl (508 kB)\n",
      "Collecting tzdata>=2022.7\n",
      "  Using cached tzdata-2024.2-py2.py3-none-any.whl (346 kB)\n",
      "Collecting cycler>=0.10\n",
      "  Downloading cycler-0.12.1-py3-none-any.whl (8.3 kB)\n",
      "Collecting fonttools>=4.22.0\n",
      "  Downloading fonttools-4.55.3-cp39-cp39-win_amd64.whl (2.2 MB)\n",
      "Collecting kiwisolver>=1.3.1\n",
      "  Downloading kiwisolver-1.4.7-cp39-cp39-win_amd64.whl (55 kB)\n",
      "Collecting importlib-resources>=3.2.0\n",
      "  Downloading importlib_resources-6.5.2-py3-none-any.whl (37 kB)\n",
      "Collecting pyparsing>=2.3.1\n",
      "  Downloading pyparsing-3.2.1-py3-none-any.whl (107 kB)\n",
      "Collecting contourpy>=1.0.1\n",
      "  Downloading contourpy-1.3.0-cp39-cp39-win_amd64.whl (211 kB)\n",
      "Collecting colorama\n",
      "  Downloading colorama-0.4.6-py2.py3-none-any.whl (25 kB)\n",
      "Collecting gitdb<5,>=4.0.1\n",
      "  Using cached gitdb-4.0.12-py3-none-any.whl (62 kB)\n",
      "Collecting smmap<6,>=3.0.1\n",
      "  Using cached smmap-5.0.2-py3-none-any.whl (24 kB)\n",
      "Collecting zipp>=3.20\n",
      "  Downloading zipp-3.21.0-py3-none-any.whl (9.6 kB)\n",
      "Collecting rpds-py>=0.7.1\n",
      "  Downloading rpds_py-0.22.3-cp39-cp39-win_amd64.whl (231 kB)\n",
      "Collecting jsonschema-specifications>=2023.03.6\n",
      "  Downloading jsonschema_specifications-2024.10.1-py3-none-any.whl (18 kB)\n",
      "Collecting attrs>=22.2.0\n",
      "  Downloading attrs-24.3.0-py3-none-any.whl (63 kB)\n",
      "Collecting referencing>=0.28.4\n",
      "  Downloading referencing-0.36.1-py3-none-any.whl (26 kB)\n",
      "Collecting MarkupSafe>=2.0\n",
      "  Downloading MarkupSafe-3.0.2-cp39-cp39-win_amd64.whl (15 kB)\n",
      "Collecting pywin32>=226\n",
      "  Downloading pywin32-308-cp39-cp39-win_amd64.whl (6.6 MB)\n",
      "Collecting six>=1.5\n",
      "  Downloading six-1.17.0-py2.py3-none-any.whl (11 kB)\n",
      "Collecting charset-normalizer<4,>=2\n",
      "  Downloading charset_normalizer-3.4.1-cp39-cp39-win_amd64.whl (102 kB)\n",
      "Collecting urllib3<3,>=1.21.1\n",
      "  Downloading urllib3-2.3.0-py3-none-any.whl (128 kB)\n",
      "Collecting idna<4,>=2.5\n",
      "  Downloading idna-3.10-py3-none-any.whl (70 kB)\n",
      "Collecting certifi>=2017.4.17\n",
      "  Downloading certifi-2024.12.14-py3-none-any.whl (164 kB)\n",
      "Collecting markdown-it-py>=2.2.0\n",
      "  Using cached markdown_it_py-3.0.0-py3-none-any.whl (87 kB)\n",
      "Collecting pygments<3.0.0,>=2.13.0\n",
      "  Using cached pygments-2.19.1-py3-none-any.whl (1.2 MB)\n",
      "Collecting mdurl~=0.1\n",
      "  Using cached mdurl-0.1.2-py3-none-any.whl (10.0 kB)\n",
      "Installing collected packages: typing-extensions, rpds-py, attrs, referencing, smmap, six, mdurl, MarkupSafe, jsonschema-specifications, zipp, urllib3, tzdata, pywin32, pytz, python-dateutil, pygments, packaging, numpy, narwhals, markdown-it-py, jsonschema, jinja2, idna, gitdb, colorama, charset-normalizer, certifi, watchdog, validators, tzlocal, tornado, toml, semver, rich, requests, pyparsing, pympler, pydeck, pyarrow, protobuf, pillow, pandas, kiwisolver, importlib-resources, importlib-metadata, gitpython, fonttools, cycler, contourpy, click, cachetools, blinker, altair, streamlit, matplotlib\n",
      "  Attempting uninstall: typing-extensions\n",
      "    Found existing installation: typing-extensions 4.12.2\n",
      "    Uninstalling typing-extensions-4.12.2:\n",
      "      Successfully uninstalled typing-extensions-4.12.2\n",
      "  Attempting uninstall: attrs\n",
      "    Found existing installation: attrs 21.2.0\n",
      "    Uninstalling attrs-21.2.0:\n",
      "      Successfully uninstalled attrs-21.2.0\n",
      "  Attempting uninstall: smmap\n",
      "    Found existing installation: smmap 5.0.2\n",
      "    Uninstalling smmap-5.0.2:\n",
      "      Successfully uninstalled smmap-5.0.2\n",
      "  Attempting uninstall: six\n",
      "    Found existing installation: six 1.16.0\n",
      "    Uninstalling six-1.16.0:\n",
      "      Successfully uninstalled six-1.16.0\n",
      "  Attempting uninstall: mdurl\n",
      "    Found existing installation: mdurl 0.1.2\n",
      "    Uninstalling mdurl-0.1.2:\n",
      "      Successfully uninstalled mdurl-0.1.2\n",
      "  Attempting uninstall: MarkupSafe\n",
      "    Found existing installation: MarkupSafe 1.1.1\n",
      "    Uninstalling MarkupSafe-1.1.1:\n",
      "      Successfully uninstalled MarkupSafe-1.1.1\n",
      "  Attempting uninstall: zipp\n",
      "    Found existing installation: zipp 3.6.0\n",
      "    Uninstalling zipp-3.6.0:\n",
      "      Successfully uninstalled zipp-3.6.0\n",
      "  Attempting uninstall: urllib3\n",
      "    Found existing installation: urllib3 1.26.7\n",
      "    Uninstalling urllib3-1.26.7:\n",
      "      Successfully uninstalled urllib3-1.26.7\n",
      "  Attempting uninstall: tzdata\n",
      "    Found existing installation: tzdata 2024.2\n",
      "    Uninstalling tzdata-2024.2:\n",
      "      Successfully uninstalled tzdata-2024.2\n",
      "  Attempting uninstall: pywin32\n",
      "    Found existing installation: pywin32 228\n",
      "    Uninstalling pywin32-228:\n",
      "      Successfully uninstalled pywin32-228\n",
      "  Attempting uninstall: pytz\n",
      "    Found existing installation: pytz 2021.3\n",
      "    Uninstalling pytz-2021.3:\n",
      "      Successfully uninstalled pytz-2021.3\n",
      "  Attempting uninstall: python-dateutil\n",
      "    Found existing installation: python-dateutil 2.8.2\n",
      "    Uninstalling python-dateutil-2.8.2:\n",
      "      Successfully uninstalled python-dateutil-2.8.2\n",
      "  Attempting uninstall: pygments\n",
      "    Found existing installation: pygments 2.19.1\n",
      "    Uninstalling pygments-2.19.1:\n",
      "      Successfully uninstalled pygments-2.19.1\n",
      "  Attempting uninstall: packaging\n",
      "    Found existing installation: packaging 21.0\n",
      "    Uninstalling packaging-21.0:\n",
      "      Successfully uninstalled packaging-21.0\n",
      "  Attempting uninstall: numpy\n",
      "    Found existing installation: numpy 1.20.3\n",
      "    Uninstalling numpy-1.20.3:\n",
      "      Successfully uninstalled numpy-1.20.3\n",
      "  Attempting uninstall: narwhals\n",
      "    Found existing installation: narwhals 1.22.0\n",
      "    Uninstalling narwhals-1.22.0:\n",
      "      Successfully uninstalled narwhals-1.22.0\n",
      "  Attempting uninstall: markdown-it-py\n",
      "    Found existing installation: markdown-it-py 3.0.0\n",
      "    Uninstalling markdown-it-py-3.0.0:\n",
      "      Successfully uninstalled markdown-it-py-3.0.0\n",
      "  Attempting uninstall: jsonschema\n",
      "    Found existing installation: jsonschema 3.2.0\n",
      "    Uninstalling jsonschema-3.2.0:\n",
      "      Successfully uninstalled jsonschema-3.2.0\n",
      "  Attempting uninstall: jinja2\n",
      "    Found existing installation: Jinja2 2.11.3\n",
      "    Uninstalling Jinja2-2.11.3:\n",
      "      Successfully uninstalled Jinja2-2.11.3\n",
      "  Attempting uninstall: idna\n",
      "    Found existing installation: idna 3.2\n",
      "    Uninstalling idna-3.2:\n",
      "      Successfully uninstalled idna-3.2\n",
      "  Attempting uninstall: gitdb\n",
      "    Found existing installation: gitdb 4.0.12\n",
      "    Uninstalling gitdb-4.0.12:\n",
      "      Successfully uninstalled gitdb-4.0.12\n",
      "  Attempting uninstall: colorama\n",
      "    Found existing installation: colorama 0.4.4\n",
      "    Uninstalling colorama-0.4.4:\n",
      "      Successfully uninstalled colorama-0.4.4\n",
      "  Attempting uninstall: charset-normalizer\n",
      "    Found existing installation: charset-normalizer 2.0.4\n",
      "    Uninstalling charset-normalizer-2.0.4:\n",
      "      Successfully uninstalled charset-normalizer-2.0.4\n",
      "  Attempting uninstall: certifi\n",
      "    Found existing installation: certifi 2021.10.8\n",
      "    Uninstalling certifi-2021.10.8:\n",
      "      Successfully uninstalled certifi-2021.10.8\n",
      "  Attempting uninstall: watchdog\n",
      "    Found existing installation: watchdog 2.1.3\n",
      "    Uninstalling watchdog-2.1.3:\n",
      "      Successfully uninstalled watchdog-2.1.3\n",
      "  Attempting uninstall: validators\n",
      "    Found existing installation: validators 0.34.0\n",
      "    Uninstalling validators-0.34.0:\n",
      "      Successfully uninstalled validators-0.34.0\n",
      "  Attempting uninstall: tzlocal\n",
      "    Found existing installation: tzlocal 5.2"
     ]
    },
    {
     "name": "stderr",
     "output_type": "stream",
     "text": [
      "ERROR: Could not install packages due to an OSError: [WinError 5] Access is denied: 'C:\\\\Users\\\\prave\\\\anaconda3\\\\Lib\\\\site-packages\\\\~yarrow\\\\arrow.dll'\n",
      "Consider using the `--user` option or check the permissions.\n",
      "\n"
     ]
    },
    {
     "name": "stdout",
     "output_type": "stream",
     "text": [
      "\n",
      "    Uninstalling tzlocal-5.2:\n",
      "      Successfully uninstalled tzlocal-5.2\n",
      "  Attempting uninstall: tornado\n",
      "    Found existing installation: tornado 6.1\n",
      "    Uninstalling tornado-6.1:\n",
      "      Successfully uninstalled tornado-6.1\n",
      "  Attempting uninstall: toml\n",
      "    Found existing installation: toml 0.10.2\n",
      "    Uninstalling toml-0.10.2:\n",
      "      Successfully uninstalled toml-0.10.2\n",
      "  Attempting uninstall: semver\n",
      "    Found existing installation: semver 3.0.3\n",
      "    Uninstalling semver-3.0.3:\n",
      "      Successfully uninstalled semver-3.0.3\n",
      "  Attempting uninstall: rich\n",
      "    Found existing installation: rich 13.9.4\n",
      "    Uninstalling rich-13.9.4:\n",
      "      Successfully uninstalled rich-13.9.4\n",
      "  Attempting uninstall: requests\n",
      "    Found existing installation: requests 2.26.0\n",
      "    Uninstalling requests-2.26.0:\n",
      "      Successfully uninstalled requests-2.26.0\n",
      "  Attempting uninstall: pyparsing\n",
      "    Found existing installation: pyparsing 3.0.4\n",
      "    Uninstalling pyparsing-3.0.4:\n",
      "      Successfully uninstalled pyparsing-3.0.4\n",
      "  Attempting uninstall: pympler\n",
      "    Found existing installation: Pympler 1.1\n",
      "    Uninstalling Pympler-1.1:\n",
      "      Successfully uninstalled Pympler-1.1\n",
      "  Attempting uninstall: pydeck\n",
      "    Found existing installation: pydeck 0.9.1\n",
      "    Uninstalling pydeck-0.9.1:\n",
      "      Successfully uninstalled pydeck-0.9.1\n",
      "  Attempting uninstall: pyarrow\n",
      "    Found existing installation: pyarrow 19.0.0\n",
      "    Uninstalling pyarrow-19.0.0:\n",
      "      Successfully uninstalled pyarrow-19.0.0\n"
     ]
    }
   ],
   "source": [
    "!pip install --upgrade --force-reinstall streamlit altair pandas numpy matplotlib"
   ]
  },
  {
   "cell_type": "code",
   "execution_count": 32,
   "id": "d28e03f7",
   "metadata": {},
   "outputs": [
    {
     "ename": "ModuleNotFoundError",
     "evalue": "No module named 'streamlit'",
     "output_type": "error",
     "traceback": [
      "\u001b[1;31m---------------------------------------------------------------------------\u001b[0m",
      "\u001b[1;31mModuleNotFoundError\u001b[0m                       Traceback (most recent call last)",
      "\u001b[1;32m~\\AppData\\Local\\Temp/ipykernel_10592/970586158.py\u001b[0m in \u001b[0;36m<module>\u001b[1;34m\u001b[0m\n\u001b[1;32m----> 1\u001b[1;33m \u001b[1;32mimport\u001b[0m \u001b[0mstreamlit\u001b[0m \u001b[1;32mas\u001b[0m \u001b[0mst\u001b[0m\u001b[1;33m\u001b[0m\u001b[1;33m\u001b[0m\u001b[0m\n\u001b[0m\u001b[0;32m      2\u001b[0m \u001b[1;32mimport\u001b[0m \u001b[0maltair\u001b[0m \u001b[1;32mas\u001b[0m \u001b[0malt\u001b[0m\u001b[1;33m\u001b[0m\u001b[1;33m\u001b[0m\u001b[0m\n\u001b[0;32m      3\u001b[0m \u001b[0mprint\u001b[0m\u001b[1;33m(\u001b[0m\u001b[1;34m\"Streamlit version:\"\u001b[0m\u001b[1;33m,\u001b[0m \u001b[0mst\u001b[0m\u001b[1;33m.\u001b[0m\u001b[0m__version__\u001b[0m\u001b[1;33m)\u001b[0m\u001b[1;33m\u001b[0m\u001b[1;33m\u001b[0m\u001b[0m\n\u001b[0;32m      4\u001b[0m \u001b[0mprint\u001b[0m\u001b[1;33m(\u001b[0m\u001b[1;34m\"Altair version:\"\u001b[0m\u001b[1;33m,\u001b[0m \u001b[0malt\u001b[0m\u001b[1;33m.\u001b[0m\u001b[0m__version__\u001b[0m\u001b[1;33m)\u001b[0m\u001b[1;33m\u001b[0m\u001b[1;33m\u001b[0m\u001b[0m\n",
      "\u001b[1;31mModuleNotFoundError\u001b[0m: No module named 'streamlit'"
     ]
    }
   ],
   "source": [
    "import streamlit as st\n",
    "import altair as alt\n",
    "print(\"Streamlit version:\", st.__version__)\n",
    "print(\"Altair version:\", alt.__version__)"
   ]
  },
  {
   "cell_type": "code",
   "execution_count": 33,
   "id": "81b48677",
   "metadata": {},
   "outputs": [
    {
     "name": "stderr",
     "output_type": "stream",
     "text": [
      "'which' is not recognized as an internal or external command,\n",
      "operable program or batch file.\n"
     ]
    }
   ],
   "source": [
    "!which python  "
   ]
  },
  {
   "cell_type": "code",
   "execution_count": 35,
   "id": "bc27246c",
   "metadata": {},
   "outputs": [
    {
     "name": "stdout",
     "output_type": "stream",
     "text": [
      "Requirement already satisfied: streamlit==1.12.0 in c:\\users\\prave\\anaconda3\\lib\\site-packages (1.12.0)\n",
      "Requirement already satisfied: typing-extensions>=3.10.0.0 in c:\\users\\prave\\anaconda3\\lib\\site-packages (from streamlit==1.12.0) (4.12.2)\n",
      "Requirement already satisfied: tzlocal>=1.1 in c:\\users\\prave\\anaconda3\\lib\\site-packages (from streamlit==1.12.0) (5.2)\n",
      "Requirement already satisfied: watchdog in c:\\users\\prave\\anaconda3\\lib\\site-packages (from streamlit==1.12.0) (6.0.0)\n",
      "Requirement already satisfied: pillow>=6.2.0 in c:\\users\\prave\\anaconda3\\lib\\site-packages (from streamlit==1.12.0) (8.4.0)\n",
      "Requirement already satisfied: packaging>=14.1 in c:\\users\\prave\\anaconda3\\lib\\site-packages (from streamlit==1.12.0) (24.2)\n",
      "Requirement already satisfied: click>=7.0 in c:\\users\\prave\\anaconda3\\lib\\site-packages (from streamlit==1.12.0) (8.0.3)\n",
      "Requirement already satisfied: semver in c:\\users\\prave\\anaconda3\\lib\\site-packages (from streamlit==1.12.0) (3.0.3)\n",
      "Requirement already satisfied: cachetools>=4.0 in c:\\users\\prave\\anaconda3\\lib\\site-packages (from streamlit==1.12.0) (5.5.0)\n",
      "Requirement already satisfied: protobuf<4,>=3.12 in c:\\users\\prave\\anaconda3\\lib\\site-packages (from streamlit==1.12.0) (3.20.3)\n",
      "Requirement already satisfied: pympler>=0.9 in c:\\users\\prave\\anaconda3\\lib\\site-packages (from streamlit==1.12.0) (1.1)\n",
      "Requirement already satisfied: validators>=0.2 in c:\\users\\prave\\anaconda3\\lib\\site-packages (from streamlit==1.12.0) (0.34.0)\n",
      "Requirement already satisfied: numpy in c:\\users\\prave\\anaconda3\\lib\\site-packages (from streamlit==1.12.0) (2.0.2)\n",
      "Requirement already satisfied: tornado>=5.0 in c:\\users\\prave\\anaconda3\\lib\\site-packages (from streamlit==1.12.0) (6.4.2)\n",
      "Requirement already satisfied: requests>=2.4 in c:\\users\\prave\\anaconda3\\lib\\site-packages (from streamlit==1.12.0) (2.32.3)\n",
      "Requirement already satisfied: gitpython!=3.1.19 in c:\\users\\prave\\anaconda3\\lib\\site-packages (from streamlit==1.12.0) (3.1.44)\n",
      "Requirement already satisfied: blinker>=1.0.0 in c:\\users\\prave\\anaconda3\\lib\\site-packages (from streamlit==1.12.0) (1.9.0)\n",
      "Requirement already satisfied: rich>=10.11.0 in c:\\users\\prave\\anaconda3\\lib\\site-packages (from streamlit==1.12.0) (13.9.4)\n",
      "Requirement already satisfied: pyarrow>=4.0 in c:\\users\\prave\\anaconda3\\lib\\site-packages (from streamlit==1.12.0) (19.0.0)\n",
      "Requirement already satisfied: toml in c:\\users\\prave\\anaconda3\\lib\\site-packages (from streamlit==1.12.0) (0.10.2)\n",
      "Requirement already satisfied: pandas>=0.21.0 in c:\\users\\prave\\anaconda3\\lib\\site-packages (from streamlit==1.12.0) (1.3.4)\n",
      "Requirement already satisfied: pydeck>=0.1.dev5 in c:\\users\\prave\\anaconda3\\lib\\site-packages (from streamlit==1.12.0) (0.9.1)\n",
      "Requirement already satisfied: python-dateutil in c:\\users\\prave\\anaconda3\\lib\\site-packages (from streamlit==1.12.0) (2.9.0.post0)\n",
      "Requirement already satisfied: importlib-metadata>=1.4 in c:\\users\\prave\\anaconda3\\lib\\site-packages (from streamlit==1.12.0) (4.8.1)\n",
      "Requirement already satisfied: altair>=3.2.0 in c:\\users\\prave\\anaconda3\\lib\\site-packages (from streamlit==1.12.0) (4.2.2)\n",
      "Requirement already satisfied: jinja2 in c:\\users\\prave\\anaconda3\\lib\\site-packages (from altair>=3.2.0->streamlit==1.12.0) (3.1.5)\n",
      "Requirement already satisfied: toolz in c:\\users\\prave\\anaconda3\\lib\\site-packages (from altair>=3.2.0->streamlit==1.12.0) (1.0.0)\n",
      "Requirement already satisfied: jsonschema>=3.0 in c:\\users\\prave\\anaconda3\\lib\\site-packages (from altair>=3.2.0->streamlit==1.12.0) (4.23.0)\n",
      "Requirement already satisfied: entrypoints in c:\\users\\prave\\anaconda3\\lib\\site-packages (from altair>=3.2.0->streamlit==1.12.0) (0.3)\n",
      "Requirement already satisfied: colorama in c:\\users\\prave\\anaconda3\\lib\\site-packages (from click>=7.0->streamlit==1.12.0) (0.4.6)\n",
      "Requirement already satisfied: gitdb<5,>=4.0.1 in c:\\users\\prave\\anaconda3\\lib\\site-packages (from gitpython!=3.1.19->streamlit==1.12.0) (4.0.12)\n",
      "Requirement already satisfied: smmap<6,>=3.0.1 in c:\\users\\prave\\anaconda3\\lib\\site-packages (from gitdb<5,>=4.0.1->gitpython!=3.1.19->streamlit==1.12.0) (5.0.2)\n",
      "Requirement already satisfied: zipp>=0.5 in c:\\users\\prave\\anaconda3\\lib\\site-packages (from importlib-metadata>=1.4->streamlit==1.12.0) (3.21.0)\n",
      "Requirement already satisfied: attrs>=22.2.0 in c:\\users\\prave\\anaconda3\\lib\\site-packages (from jsonschema>=3.0->altair>=3.2.0->streamlit==1.12.0) (24.3.0)\n",
      "Requirement already satisfied: rpds-py>=0.7.1 in c:\\users\\prave\\anaconda3\\lib\\site-packages (from jsonschema>=3.0->altair>=3.2.0->streamlit==1.12.0) (0.22.3)\n",
      "Requirement already satisfied: jsonschema-specifications>=2023.03.6 in c:\\users\\prave\\anaconda3\\lib\\site-packages (from jsonschema>=3.0->altair>=3.2.0->streamlit==1.12.0) (2024.10.1)\n",
      "Requirement already satisfied: referencing>=0.28.4 in c:\\users\\prave\\anaconda3\\lib\\site-packages (from jsonschema>=3.0->altair>=3.2.0->streamlit==1.12.0) (0.36.1)\n",
      "Requirement already satisfied: pytz>=2017.3 in c:\\users\\prave\\anaconda3\\lib\\site-packages (from pandas>=0.21.0->streamlit==1.12.0) (2024.2)\n",
      "Requirement already satisfied: MarkupSafe>=2.0 in c:\\users\\prave\\anaconda3\\lib\\site-packages (from jinja2->altair>=3.2.0->streamlit==1.12.0) (3.0.2)\n",
      "Requirement already satisfied: pywin32>=226 in c:\\users\\prave\\anaconda3\\lib\\site-packages (from pympler>=0.9->streamlit==1.12.0) (308)\n",
      "Requirement already satisfied: six>=1.5 in c:\\users\\prave\\anaconda3\\lib\\site-packages (from python-dateutil->streamlit==1.12.0) (1.17.0)\n",
      "Requirement already satisfied: idna<4,>=2.5 in c:\\users\\prave\\anaconda3\\lib\\site-packages (from requests>=2.4->streamlit==1.12.0) (3.10)\n",
      "Requirement already satisfied: certifi>=2017.4.17 in c:\\users\\prave\\anaconda3\\lib\\site-packages (from requests>=2.4->streamlit==1.12.0) (2024.12.14)\n",
      "Requirement already satisfied: charset-normalizer<4,>=2 in c:\\users\\prave\\anaconda3\\lib\\site-packages (from requests>=2.4->streamlit==1.12.0) (3.4.1)\n",
      "Requirement already satisfied: urllib3<3,>=1.21.1 in c:\\users\\prave\\anaconda3\\lib\\site-packages (from requests>=2.4->streamlit==1.12.0) (2.3.0)\n",
      "Requirement already satisfied: markdown-it-py>=2.2.0 in c:\\users\\prave\\anaconda3\\lib\\site-packages (from rich>=10.11.0->streamlit==1.12.0) (3.0.0)\n",
      "Requirement already satisfied: pygments<3.0.0,>=2.13.0 in c:\\users\\prave\\anaconda3\\lib\\site-packages (from rich>=10.11.0->streamlit==1.12.0) (2.19.1)\n",
      "Requirement already satisfied: mdurl~=0.1 in c:\\users\\prave\\anaconda3\\lib\\site-packages (from markdown-it-py>=2.2.0->rich>=10.11.0->streamlit==1.12.0) (0.1.2)\n",
      "Requirement already satisfied: tzdata in c:\\users\\prave\\anaconda3\\lib\\site-packages (from tzlocal>=1.1->streamlit==1.12.0) (2024.2)\n"
     ]
    }
   ],
   "source": [
    "!pip install streamlit==1.12.0"
   ]
  },
  {
   "cell_type": "code",
   "execution_count": 36,
   "id": "3d21043c",
   "metadata": {},
   "outputs": [
    {
     "name": "stdout",
     "output_type": "stream",
     "text": [
      "Name: streamlit\n",
      "Version: 1.12.0\n",
      "Summary: The fastest way to build data apps in Python\n",
      "Home-page: https://streamlit.io\n",
      "Author: Streamlit Inc\n",
      "Author-email: hello@streamlit.io\n",
      "License: Apache 2\n",
      "Location: c:\\users\\prave\\anaconda3\\lib\\site-packages\n",
      "Requires: tornado, pydeck, rich, pillow, blinker, numpy, python-dateutil, tzlocal, cachetools, validators, altair, toml, packaging, protobuf, importlib-metadata, typing-extensions, pandas, gitpython, pyarrow, pympler, semver, click, requests, watchdog\n",
      "Required-by: \n"
     ]
    }
   ],
   "source": [
    "!pip show streamlit"
   ]
  },
  {
   "cell_type": "code",
   "execution_count": 37,
   "id": "273cb83b",
   "metadata": {},
   "outputs": [
    {
     "ename": "ImportError",
     "evalue": "cannot import name 'curry' from 'altair.vegalite.data' (C:\\Users\\prave\\anaconda3\\lib\\site-packages\\altair\\vegalite\\data.py)",
     "output_type": "error",
     "traceback": [
      "\u001b[1;31m---------------------------------------------------------------------------\u001b[0m",
      "\u001b[1;31mImportError\u001b[0m                               Traceback (most recent call last)",
      "\u001b[1;32m~\\AppData\\Local\\Temp/ipykernel_10592/3391723067.py\u001b[0m in \u001b[0;36m<module>\u001b[1;34m\u001b[0m\n\u001b[1;32m----> 1\u001b[1;33m \u001b[1;32mimport\u001b[0m \u001b[0mstreamlit\u001b[0m \u001b[1;32mas\u001b[0m \u001b[0mst\u001b[0m\u001b[1;33m\u001b[0m\u001b[1;33m\u001b[0m\u001b[0m\n\u001b[0m\u001b[0;32m      2\u001b[0m \u001b[0mprint\u001b[0m\u001b[1;33m(\u001b[0m\u001b[1;34m\"Streamlit version:\"\u001b[0m\u001b[1;33m,\u001b[0m \u001b[0mst\u001b[0m\u001b[1;33m.\u001b[0m\u001b[0m__version__\u001b[0m\u001b[1;33m)\u001b[0m\u001b[1;33m\u001b[0m\u001b[1;33m\u001b[0m\u001b[0m\n",
      "\u001b[1;32m~\\anaconda3\\lib\\site-packages\\streamlit\\__init__.py\u001b[0m in \u001b[0;36m<module>\u001b[1;34m\u001b[0m\n\u001b[0;32m     68\u001b[0m \u001b[1;32mfrom\u001b[0m \u001b[0mstreamlit\u001b[0m \u001b[1;32mimport\u001b[0m \u001b[0msource_util\u001b[0m \u001b[1;32mas\u001b[0m \u001b[0m_source_util\u001b[0m\u001b[1;33m\u001b[0m\u001b[1;33m\u001b[0m\u001b[0m\n\u001b[0;32m     69\u001b[0m \u001b[1;32mfrom\u001b[0m \u001b[0mstreamlit\u001b[0m \u001b[1;32mimport\u001b[0m \u001b[0mstring_util\u001b[0m \u001b[1;32mas\u001b[0m \u001b[0m_string_util\u001b[0m\u001b[1;33m\u001b[0m\u001b[1;33m\u001b[0m\u001b[0m\n\u001b[1;32m---> 70\u001b[1;33m \u001b[1;32mfrom\u001b[0m \u001b[0mstreamlit\u001b[0m\u001b[1;33m.\u001b[0m\u001b[0mdelta_generator\u001b[0m \u001b[1;32mimport\u001b[0m \u001b[0mDeltaGenerator\u001b[0m \u001b[1;32mas\u001b[0m \u001b[0m_DeltaGenerator\u001b[0m\u001b[1;33m\u001b[0m\u001b[1;33m\u001b[0m\u001b[0m\n\u001b[0m\u001b[0;32m     71\u001b[0m from streamlit.runtime.scriptrunner import (\n\u001b[0;32m     72\u001b[0m     \u001b[0madd_script_run_ctx\u001b[0m \u001b[1;32mas\u001b[0m \u001b[0m_add_script_run_ctx\u001b[0m\u001b[1;33m,\u001b[0m\u001b[1;33m\u001b[0m\u001b[1;33m\u001b[0m\u001b[0m\n",
      "\u001b[1;32m~\\anaconda3\\lib\\site-packages\\streamlit\\delta_generator.py\u001b[0m in \u001b[0;36m<module>\u001b[1;34m\u001b[0m\n\u001b[0;32m     88\u001b[0m \u001b[1;31m# We select between them with the DataFrameElementSelectorMixin.\u001b[0m\u001b[1;33m\u001b[0m\u001b[1;33m\u001b[0m\u001b[0m\n\u001b[0;32m     89\u001b[0m \u001b[1;32mfrom\u001b[0m \u001b[0mstreamlit\u001b[0m\u001b[1;33m.\u001b[0m\u001b[0melements\u001b[0m\u001b[1;33m.\u001b[0m\u001b[0marrow\u001b[0m \u001b[1;32mimport\u001b[0m \u001b[0mArrowMixin\u001b[0m\u001b[1;33m\u001b[0m\u001b[1;33m\u001b[0m\u001b[0m\n\u001b[1;32m---> 90\u001b[1;33m \u001b[1;32mfrom\u001b[0m \u001b[0mstreamlit\u001b[0m\u001b[1;33m.\u001b[0m\u001b[0melements\u001b[0m\u001b[1;33m.\u001b[0m\u001b[0marrow_altair\u001b[0m \u001b[1;32mimport\u001b[0m \u001b[0mArrowAltairMixin\u001b[0m\u001b[1;33m\u001b[0m\u001b[1;33m\u001b[0m\u001b[0m\n\u001b[0m\u001b[0;32m     91\u001b[0m \u001b[1;32mfrom\u001b[0m \u001b[0mstreamlit\u001b[0m\u001b[1;33m.\u001b[0m\u001b[0melements\u001b[0m\u001b[1;33m.\u001b[0m\u001b[0marrow_vega_lite\u001b[0m \u001b[1;32mimport\u001b[0m \u001b[0mArrowVegaLiteMixin\u001b[0m\u001b[1;33m\u001b[0m\u001b[1;33m\u001b[0m\u001b[0m\n\u001b[0;32m     92\u001b[0m \u001b[1;32mfrom\u001b[0m \u001b[0mstreamlit\u001b[0m\u001b[1;33m.\u001b[0m\u001b[0melements\u001b[0m\u001b[1;33m.\u001b[0m\u001b[0mlegacy_data_frame\u001b[0m \u001b[1;32mimport\u001b[0m \u001b[0mLegacyDataFrameMixin\u001b[0m\u001b[1;33m\u001b[0m\u001b[1;33m\u001b[0m\u001b[0m\n",
      "\u001b[1;32m~\\anaconda3\\lib\\site-packages\\streamlit\\elements\\arrow_altair.py\u001b[0m in \u001b[0;36m<module>\u001b[1;34m\u001b[0m\n\u001b[0;32m     33\u001b[0m \u001b[1;32mimport\u001b[0m \u001b[0maltair\u001b[0m \u001b[1;32mas\u001b[0m \u001b[0malt\u001b[0m\u001b[1;33m\u001b[0m\u001b[1;33m\u001b[0m\u001b[0m\n\u001b[0;32m     34\u001b[0m \u001b[1;32mimport\u001b[0m \u001b[0mpandas\u001b[0m \u001b[1;32mas\u001b[0m \u001b[0mpd\u001b[0m\u001b[1;33m\u001b[0m\u001b[1;33m\u001b[0m\u001b[0m\n\u001b[1;32m---> 35\u001b[1;33m \u001b[1;32mfrom\u001b[0m \u001b[0maltair\u001b[0m\u001b[1;33m.\u001b[0m\u001b[0mvegalite\u001b[0m\u001b[1;33m.\u001b[0m\u001b[0mv4\u001b[0m\u001b[1;33m.\u001b[0m\u001b[0mapi\u001b[0m \u001b[1;32mimport\u001b[0m \u001b[0mChart\u001b[0m\u001b[1;33m\u001b[0m\u001b[1;33m\u001b[0m\u001b[0m\n\u001b[0m\u001b[0;32m     36\u001b[0m \u001b[1;32mfrom\u001b[0m \u001b[0mpandas\u001b[0m\u001b[1;33m.\u001b[0m\u001b[0mapi\u001b[0m\u001b[1;33m.\u001b[0m\u001b[0mtypes\u001b[0m \u001b[1;32mimport\u001b[0m \u001b[0minfer_dtype\u001b[0m\u001b[1;33m\u001b[0m\u001b[1;33m\u001b[0m\u001b[0m\n\u001b[0;32m     37\u001b[0m \u001b[1;33m\u001b[0m\u001b[0m\n",
      "\u001b[1;32m~\\anaconda3\\lib\\site-packages\\altair\\vegalite\\v4\\__init__.py\u001b[0m in \u001b[0;36m<module>\u001b[1;34m\u001b[0m\n\u001b[0;32m      1\u001b[0m \u001b[1;31m# flake8: noqa\u001b[0m\u001b[1;33m\u001b[0m\u001b[1;33m\u001b[0m\u001b[0m\n\u001b[0;32m      2\u001b[0m \u001b[1;32mfrom\u001b[0m \u001b[1;33m.\u001b[0m\u001b[0mschema\u001b[0m \u001b[1;32mimport\u001b[0m \u001b[1;33m*\u001b[0m\u001b[1;33m\u001b[0m\u001b[1;33m\u001b[0m\u001b[0m\n\u001b[1;32m----> 3\u001b[1;33m \u001b[1;32mfrom\u001b[0m \u001b[1;33m.\u001b[0m\u001b[0mapi\u001b[0m \u001b[1;32mimport\u001b[0m \u001b[1;33m*\u001b[0m\u001b[1;33m\u001b[0m\u001b[1;33m\u001b[0m\u001b[0m\n\u001b[0m\u001b[0;32m      4\u001b[0m \u001b[1;33m\u001b[0m\u001b[0m\n\u001b[0;32m      5\u001b[0m \u001b[1;32mfrom\u001b[0m \u001b[1;33m...\u001b[0m\u001b[0mdatasets\u001b[0m \u001b[1;32mimport\u001b[0m \u001b[0mlist_datasets\u001b[0m\u001b[1;33m,\u001b[0m \u001b[0mload_dataset\u001b[0m\u001b[1;33m\u001b[0m\u001b[1;33m\u001b[0m\u001b[0m\n",
      "\u001b[1;32m~\\anaconda3\\lib\\site-packages\\altair\\vegalite\\v4\\api.py\u001b[0m in \u001b[0;36m<module>\u001b[1;34m\u001b[0m\n\u001b[0;32m     10\u001b[0m \u001b[1;32mfrom\u001b[0m \u001b[1;33m.\u001b[0m\u001b[0mschema\u001b[0m \u001b[1;32mimport\u001b[0m \u001b[0mcore\u001b[0m\u001b[1;33m,\u001b[0m \u001b[0mchannels\u001b[0m\u001b[1;33m,\u001b[0m \u001b[0mmixins\u001b[0m\u001b[1;33m,\u001b[0m \u001b[0mUndefined\u001b[0m\u001b[1;33m,\u001b[0m \u001b[0mSCHEMA_URL\u001b[0m\u001b[1;33m\u001b[0m\u001b[1;33m\u001b[0m\u001b[0m\n\u001b[0;32m     11\u001b[0m \u001b[1;33m\u001b[0m\u001b[0m\n\u001b[1;32m---> 12\u001b[1;33m \u001b[1;32mfrom\u001b[0m \u001b[1;33m.\u001b[0m\u001b[0mdata\u001b[0m \u001b[1;32mimport\u001b[0m \u001b[0mdata_transformers\u001b[0m\u001b[1;33m\u001b[0m\u001b[1;33m\u001b[0m\u001b[0m\n\u001b[0m\u001b[0;32m     13\u001b[0m \u001b[1;32mfrom\u001b[0m \u001b[1;33m...\u001b[0m \u001b[1;32mimport\u001b[0m \u001b[0mutils\u001b[0m\u001b[1;33m,\u001b[0m \u001b[0mexpr\u001b[0m\u001b[1;33m\u001b[0m\u001b[1;33m\u001b[0m\u001b[0m\n\u001b[0;32m     14\u001b[0m \u001b[1;32mfrom\u001b[0m \u001b[1;33m.\u001b[0m\u001b[0mdisplay\u001b[0m \u001b[1;32mimport\u001b[0m \u001b[0mrenderers\u001b[0m\u001b[1;33m,\u001b[0m \u001b[0mVEGALITE_VERSION\u001b[0m\u001b[1;33m,\u001b[0m \u001b[0mVEGAEMBED_VERSION\u001b[0m\u001b[1;33m,\u001b[0m \u001b[0mVEGA_VERSION\u001b[0m\u001b[1;33m\u001b[0m\u001b[1;33m\u001b[0m\u001b[0m\n",
      "\u001b[1;32m~\\anaconda3\\lib\\site-packages\\altair\\vegalite\\v4\\data.py\u001b[0m in \u001b[0;36m<module>\u001b[1;34m\u001b[0m\n\u001b[1;32m----> 1\u001b[1;33m from ..data import (\n\u001b[0m\u001b[0;32m      2\u001b[0m     \u001b[0mMaxRowsError\u001b[0m\u001b[1;33m,\u001b[0m\u001b[1;33m\u001b[0m\u001b[1;33m\u001b[0m\u001b[0m\n\u001b[0;32m      3\u001b[0m     \u001b[0mcurry\u001b[0m\u001b[1;33m,\u001b[0m\u001b[1;33m\u001b[0m\u001b[1;33m\u001b[0m\u001b[0m\n\u001b[0;32m      4\u001b[0m     \u001b[0mdefault_data_transformer\u001b[0m\u001b[1;33m,\u001b[0m\u001b[1;33m\u001b[0m\u001b[1;33m\u001b[0m\u001b[0m\n\u001b[0;32m      5\u001b[0m     \u001b[0mlimit_rows\u001b[0m\u001b[1;33m,\u001b[0m\u001b[1;33m\u001b[0m\u001b[1;33m\u001b[0m\u001b[0m\n",
      "\u001b[1;31mImportError\u001b[0m: cannot import name 'curry' from 'altair.vegalite.data' (C:\\Users\\prave\\anaconda3\\lib\\site-packages\\altair\\vegalite\\data.py)"
     ]
    }
   ],
   "source": [
    "import streamlit as st\n",
    "print(\"Streamlit version:\", st.__version__)"
   ]
  },
  {
   "cell_type": "code",
   "execution_count": 40,
   "id": "a0286a3f",
   "metadata": {},
   "outputs": [
    {
     "name": "stdout",
     "output_type": "stream",
     "text": [
      "Found existing installation: numpy 2.0.2\n",
      "Uninstalling numpy-2.0.2:\n",
      "  Successfully uninstalled numpy-2.0.2\n"
     ]
    },
    {
     "name": "stderr",
     "output_type": "stream",
     "text": [
      "ERROR: Exception:\n",
      "Traceback (most recent call last):\n",
      "  File \"C:\\Users\\prave\\anaconda3\\lib\\site-packages\\pip\\_internal\\cli\\base_command.py\", line 173, in _main\n",
      "    status = self.run(options, args)\n",
      "  File \"C:\\Users\\prave\\anaconda3\\lib\\site-packages\\pip\\_internal\\commands\\uninstall.py\", line 97, in run\n",
      "    uninstall_pathset.commit()\n",
      "  File \"C:\\Users\\prave\\anaconda3\\lib\\site-packages\\pip\\_internal\\req\\req_uninstall.py\", line 436, in commit\n",
      "    self._moved_paths.commit()\n",
      "  File \"C:\\Users\\prave\\anaconda3\\lib\\site-packages\\pip\\_internal\\req\\req_uninstall.py\", line 287, in commit\n",
      "    save_dir.cleanup()\n",
      "  File \"C:\\Users\\prave\\anaconda3\\lib\\site-packages\\pip\\_internal\\utils\\temp_dir.py\", line 184, in cleanup\n",
      "    rmtree(self._path)\n",
      "  File \"C:\\Users\\prave\\anaconda3\\lib\\site-packages\\pip\\_vendor\\tenacity\\__init__.py\", line 326, in wrapped_f\n",
      "    return self(f, *args, **kw)\n",
      "  File \"C:\\Users\\prave\\anaconda3\\lib\\site-packages\\pip\\_vendor\\tenacity\\__init__.py\", line 406, in __call__\n",
      "    do = self.iter(retry_state=retry_state)\n",
      "  File \"C:\\Users\\prave\\anaconda3\\lib\\site-packages\\pip\\_vendor\\tenacity\\__init__.py\", line 362, in iter\n",
      "    raise retry_exc.reraise()\n",
      "  File \"C:\\Users\\prave\\anaconda3\\lib\\site-packages\\pip\\_vendor\\tenacity\\__init__.py\", line 195, in reraise\n",
      "    raise self.last_attempt.result()\n",
      "  File \"C:\\Users\\prave\\anaconda3\\lib\\concurrent\\futures\\_base.py\", line 438, in result\n",
      "    return self.__get_result()\n",
      "  File \"C:\\Users\\prave\\anaconda3\\lib\\concurrent\\futures\\_base.py\", line 390, in __get_result\n",
      "    raise self._exception\n",
      "  File \"C:\\Users\\prave\\anaconda3\\lib\\site-packages\\pip\\_vendor\\tenacity\\__init__.py\", line 409, in __call__\n",
      "    result = fn(*args, **kwargs)\n",
      "  File \"C:\\Users\\prave\\anaconda3\\lib\\site-packages\\pip\\_internal\\utils\\misc.py\", line 135, in rmtree\n",
      "    shutil.rmtree(dir, ignore_errors=ignore_errors, onerror=rmtree_errorhandler)\n",
      "  File \"C:\\Users\\prave\\anaconda3\\lib\\shutil.py\", line 748, in rmtree\n",
      "    return _rmtree_unsafe(path, onerror)\n",
      "  File \"C:\\Users\\prave\\anaconda3\\lib\\shutil.py\", line 626, in _rmtree_unsafe\n",
      "    onerror(os.unlink, fullname, sys.exc_info())\n",
      "  File \"C:\\Users\\prave\\anaconda3\\lib\\shutil.py\", line 624, in _rmtree_unsafe\n",
      "    os.unlink(fullname)\n",
      "PermissionError: [WinError 5] Access is denied: 'C:\\\\Users\\\\prave\\\\anaconda3\\\\Lib\\\\site-packages\\\\~umpy.libs\\\\libscipy_openblas64_-caad452230ae4ddb57899b8b3a33c55c.dll'\n"
     ]
    }
   ],
   "source": [
    "!pip uninstall numpy -y"
   ]
  },
  {
   "cell_type": "code",
   "execution_count": null,
   "id": "79b28d25",
   "metadata": {},
   "outputs": [],
   "source": []
  }
 ],
 "metadata": {
  "kernelspec": {
   "display_name": "Python 3 (ipykernel)",
   "language": "python",
   "name": "python3"
  },
  "language_info": {
   "codemirror_mode": {
    "name": "ipython",
    "version": 3
   },
   "file_extension": ".py",
   "mimetype": "text/x-python",
   "name": "python",
   "nbconvert_exporter": "python",
   "pygments_lexer": "ipython3",
   "version": "3.9.7"
  }
 },
 "nbformat": 4,
 "nbformat_minor": 5
}
